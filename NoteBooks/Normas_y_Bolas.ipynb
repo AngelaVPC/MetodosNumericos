{
  "nbformat": 4,
  "nbformat_minor": 0,
  "metadata": {
    "colab": {
      "provenance": []
    },
    "kernelspec": {
      "name": "python3",
      "display_name": "Python 3"
    },
    "language_info": {
      "name": "python"
    }
  },
  "cells": [
    {
      "cell_type": "markdown",
      "source": [
        "# Distancia\n",
        "\n",
        "Sea $X$ un conjunto no vacio, se define __distancia__ como cualquier función $d(a,b)$ de $X\\times X$ en $\\mathbb{R}$ tal que cumple\n",
        "\n",
        "* No negatividad: $\\forall a,b\\in X, d(a,b)\\geq0$ y $d(a,b)=0 \\leftrightarrow a=b$.\n",
        "* Simetría: $\\forall a,b\\in X, d(a,b)=d(b,a)$.\n",
        "* Desigualdad triangular: $\\forall a,b,c \\in X, d(a,b)\\leq d(a,c)+d(c,b)$\n",
        "\n",
        "### Ejemplos:\n",
        "\n",
        "* Euclidiana:\n",
        "* Máximo:\n",
        "\n",
        "## Bolas\n",
        "\n",
        "Sea $X$ un conjunto y $d$ una distancia. Una __bola__ con centro en $x\\in X$ y de radio $a>0$ es el conjunto $$B_a(x):=\\left\\{y\\in X| d(x,y)< a \\right\\}$$.\n",
        "\n",
        "### Ejemplo:\n",
        "\n",
        "Tome $X=\\mathbb{R}$ y la distancia euclidiana, $B_2(3)$ es el intervalo $(1,5)$.\n",
        "\n",
        "## Conjuntos abiertos\n",
        "\n",
        "Un __conjunto abierto__ A es un conjunto tal que $\\forall x\\in A$ existe $\\epsilon>0$ que cumple $B_\\epsilon(x)\\subset A$.\n",
        "\n",
        "### Ejemplo:\n",
        "\n",
        "Note que $A=(-1,3)\\cup(5,7)$ es un conjunto abierto.\n",
        "\n",
        "## Conjunto cerrado\n",
        "\n",
        "Un __conjunto cerrado__ B es un conjunto tal que $B^c$ es abierto.\n",
        "\n",
        "### Ejemplo:\n",
        "\n",
        "Note que el complemento de $A=[-3,0]$ es un conjunto abierto.\n",
        "\n",
        "### Ejemplo 2:\n",
        "\n",
        "$$d(x,y)=\\left\\{\\begin{array}{l}1, \\text{ si }x\\neq y\\\\0,\\text{ si }x=y\\end{array} \\right.$$\n",
        "\n",
        "Muestre que es una distacia y construya $B_1(2)$\n",
        "### Ejercicio:\n",
        "\n",
        "1. Muestre que las siguientes funciones son una distancia sobre los conjuntos dados\n",
        "\n",
        "* $X=\\mathbb{R}$, $d(x,y)=|x^2-y^2|$\n",
        "* $X=\\mathbb{R}$, $d(x,y)=(x-y)^2$\n",
        "* $X=\\mathbb{R}$, $d(x,y)=\\max\\left\\{1,|x-y|\\right\\}$\n",
        "\n",
        "2. Dibuje la bola $B_1(2)$ para cada uno de los conjuntos y distancias dadas en el punto anterior.\n",
        "\n",
        "3. Indique si los siguientes conjuntos son cerrados, abiertos o ninguno para la norma euclidiana y sobre el conjunto $\\mathbb{R}^2$.\n",
        "\n",
        "* $A=\\left\\{(x,y): x^2+y^2\\leq 1 \\right\\}$\n",
        "* $A=\\left\\{(x,y): x^2+y^2< 1 \\right\\}$\n",
        "\n",
        "## Norma\n",
        "\n",
        "Sea $V$ un espacio vectorial. Una funci\\'on $||\\cdot||:V\\rightarrow\\mathbb{R}$ se llama __norma__ si cumple con las siguientes propiedades\n",
        "\n",
        "* $||x||>0$ $\\forall x\\in V-\\left\\{0\\right\\}$.\n",
        "* $||\\lambda x||=|\\lambda|||x||$ $\\forall x\\in V$ y $\\lambda\\in\\mathbb{R}$\n",
        "* $||x+y||\\leq ||x||+||y||$ $\\forall x,y\\in V$.\n",
        "\n",
        "__Teorema:__ Toda norma $||\\cdot||$ induce una distancia sobre un espacio vectorial mediante\n",
        "$$d(x,y)=||x-y||$$\n",
        "\n",
        "## Ejemplo:\n",
        "\n",
        "Tome $V=\\mathbb{R}^2$ y defina $||x||=\\sqrt{ \\langle x,x \\rangle }$."
      ],
      "metadata": {
        "id": "SMFjcR13C_x8"
      }
    },
    {
      "cell_type": "code",
      "execution_count": null,
      "metadata": {
        "id": "X48i4zCdC7Cx"
      },
      "outputs": [],
      "source": []
    }
  ]
}