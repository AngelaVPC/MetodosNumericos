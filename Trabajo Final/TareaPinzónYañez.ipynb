{
 "cells": [
  {
   "cell_type": "code",
   "execution_count": 4,
   "metadata": {},
   "outputs": [],
   "source": [
    "import numpy as np\n",
    "import matplotlib.pyplot as plt\n",
    "import matplotlib.patches as patches"
   ]
  },
  {
   "cell_type": "markdown",
   "metadata": {},
   "source": [
    "# Taller Final\n",
    "\n",
    "por:\n",
    "\n",
    "- Pinzón, Angela\n",
    "- Yañez, Andrés\n",
    "\n",
    "## Punto 1.\n",
    "Del artı́culo *ALM for insurers with multiple underwriting lines andportfolio constraints: a Lagrangian duality approach*, replique la solución numérica del **ejemplo 2**. Para tal caso, primero construya las gráficas presentadas en el ejemplo y luego halle las soluciones. Ayuda: Construya la función auxiliar $f (κ) = h1 (κ) − h2 (κ)$ y encuentre la raı́z de esa función auxiliar."
   ]
  },
  {
   "cell_type": "markdown",
   "metadata": {},
   "source": [
    "#### Replica de graficas\n",
    "Con parametros de $\\eta$ son $0.7$, $1.2$, $1.7$, y $2.2$."
   ]
  },
  {
   "cell_type": "code",
   "execution_count": 67,
   "metadata": {},
   "outputs": [
    {
     "name": "stdout",
     "output_type": "stream",
     "text": [
      "[[0.71428236 0.71507756]\n",
      " [0.71507756 0.71146556]] [[0.77971231 0.78289311]\n",
      " [0.78289311 0.76844511]]\n"
     ]
    }
   ],
   "source": [
    "eta = 0.7\n",
    "\n",
    "# Parámetros\n",
    "q1, q2 = 0.2, 0.6\n",
    "mu, r = 0.07, 0.03\n",
    "sigma = 0.21\n",
    "lambda_ = 0.1\n",
    "I_2x2 = np.eye(2)  # Matriz identidad 2x2\n",
    "\n",
    "# Matrices\n",
    "b = np.matrix([[0.2,0.6],\n",
    "              [1.3, 0.7]])  # b matriz 2x2\n",
    "c = np.array([3.0, 3.0]) # c como un vector columna\n",
    "c = c.reshape(2, 1)  # c como un vector columna\n",
    "p = np.array([0.7, 1.1])  # p Vector columna \n",
    "p = p.reshape(2, 1)  # p como un vector columna\n",
    "rho = np.array([0.4, 0.5])  # rho como un vector fila\n",
    "\n",
    "# Funciones corregidas\n",
    "def h1(k):\n",
    "    term1 = p[0] + (mu - r) / sigma * np.linalg.norm(np.dot(b, rho.T))**2\n",
    "    term2 = -eta * np.dot(b, np.dot(I_2x2 - np.dot(rho.T, rho), b.T)) * k**2\n",
    "    additional_term = -lambda_ * (\n",
    "        c[0] * q1 / (1 - k * c[0])**eta +\n",
    "        c[0] * (1 - (q1 + q2)) / (1 - (k * c[0] + k**2 * c[1]))**eta\n",
    "    )\n",
    "    return term1 + term2 + additional_term\n",
    "\n",
    "def h2(k):\n",
    "    term1 = p[1] + (mu - r) / sigma * np.linalg.norm(np.dot(b, rho.T))**2\n",
    "    term2 = -eta * np.dot(b, np.dot(I_2x2 - np.dot(rho.T, rho), b.T)) * k**2\n",
    "    additional_term = -lambda_ * (\n",
    "        c[1] * q2 / (1 - k * c[1])**eta +\n",
    "        c[1] * (1 - (q1 + q2)) / (1 - (k * c[0] + k**2 * c[1]))**eta\n",
    "    )\n",
    "    return term1 + term2 + additional_term\n",
    "\n",
    "k = np.array([0.1, 0.2])\n",
    "print(h1(k[0]), h2(k[1]))"
   ]
  },
  {
   "cell_type": "code",
   "execution_count": 77,
   "metadata": {},
   "outputs": [],
   "source": [
    "import numpy as np\n",
    "\n",
    "# Parámetros base\n",
    "eta = 0.7\n",
    "q1, q2 = 0.2, 0.6\n",
    "mu, r = 0.07, 0.03\n",
    "sigma = 0.21\n",
    "lambda_ = 0.1\n",
    "I_2x2 = np.eye(2)  # Matriz identidad 2x2\n",
    "\n",
    "# Matrices\n",
    "b = np.array([[0.2, 0.6], [1.3, 0.7]])  # b matriz 2x2\n",
    "c = np.array([3.0, 3.0]).reshape(2, 1)  # c como un vector columna\n",
    "p = np.array([0.7, 1.1]).reshape(2, 1)  # p como un vector columna\n",
    "rho = np.array([0.4, 0.5])  # rho como un vector fila\n",
    "\n",
    "# Función corregida h1(k)\n",
    "def h1(k):\n",
    "    k = np.array([k])  # Asegurarse de que k es un array\n",
    "    term1 = p[0] + (mu - r) / sigma * np.linalg.norm(np.dot(b, rho.T))**2\n",
    "    term2 = -eta * np.dot(b, np.dot(I_2x2 - np.outer(rho, rho), b.T)).sum() * k**2\n",
    "    additional_term = -lambda_ * (\n",
    "        c[0] * q1 / (1 - k * c[0])**eta +\n",
    "        c[0] * (1 - (q1 + q2)) / (1 - (k * c[0] + k**2 * c[1]))**eta\n",
    "    ).sum()\n",
    "    return term1 + term2 + additional_term\n",
    "\n",
    "# Función corregida h2(k)\n",
    "def h2(k):\n",
    "    k = np.array([k])  # Asegurarse de que k es un array\n",
    "    term1 = p[1] + (mu - r) / sigma * np.linalg.norm(np.dot(b, rho.T))**2\n",
    "    term2 = -eta * np.dot(b, np.dot(I_2x2 - np.outer(rho, rho), b.T)).sum() * k**2\n",
    "    additional_term = -lambda_ * (\n",
    "        c[1] * q2 / (1 - k * c[1])**eta +\n",
    "        c[1] * (1 - (q1 + q2)) / (1 - (k * c[0] + k**2 * c[1]))**eta\n",
    "    ).sum()\n",
    "    return term1 + term2 + additional_term\n",
    "\n",
    "# Funcion auxiliar para graficar\n",
    "def f(k):\n",
    "    return h1(k)- h2(k)\n",
    "\n",
    "k = [0.1, 0.2]\n",
    "print\n"
   ]
  },
  {
   "cell_type": "code",
   "execution_count": null,
   "metadata": {},
   "outputs": [],
   "source": []
  }
 ],
 "metadata": {
  "kernelspec": {
   "display_name": "Python 3",
   "language": "python",
   "name": "python3"
  },
  "language_info": {
   "codemirror_mode": {
    "name": "ipython",
    "version": 3
   },
   "file_extension": ".py",
   "mimetype": "text/x-python",
   "name": "python",
   "nbconvert_exporter": "python",
   "pygments_lexer": "ipython3",
   "version": "3.11.9"
  }
 },
 "nbformat": 4,
 "nbformat_minor": 2
}
